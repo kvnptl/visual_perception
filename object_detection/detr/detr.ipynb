{
 "cells": [
  {
   "cell_type": "markdown",
   "metadata": {},
   "source": [
    "# DETR: End-to-End Object Detection with Transformers\n",
    "\n",
    "- Paper: [End-to-End Object Detection with Transformers](https://arxiv.org/abs/2005.12872)\n",
    "- Official video: [DETR - End to end object detection with transformers (ECCV2020)](https://youtu.be/utxbUlo9CyY?si=cIHkqMDQj7rMrTCk)"
   ]
  },
  {
   "cell_type": "markdown",
   "metadata": {},
   "source": [
    "## Overview\n",
    "<img src=\"notebook_images/detr_overall.png\" width=\"900\">\n",
    "<br></br>\n",
    "\n",
    "## Output Matching\n",
    "<img src=\"notebook_images/detr_output_matching.png\" width=\"900\">\n",
    "<br></br>\n",
    "\n",
    "## Architecture\n",
    "<img src=\"notebook_images/detr_architecture.png\" width=\"600\">"
   ]
  },
  {
   "cell_type": "code",
   "execution_count": null,
   "metadata": {},
   "outputs": [],
   "source": []
  }
 ],
 "metadata": {
  "language_info": {
   "name": "python"
  }
 },
 "nbformat": 4,
 "nbformat_minor": 2
}
